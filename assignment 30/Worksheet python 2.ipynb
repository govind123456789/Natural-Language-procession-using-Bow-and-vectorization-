{
 "cells": [
  {
   "cell_type": "code",
   "execution_count": 34,
   "metadata": {},
   "outputs": [
    {
     "data": {
      "text/plain": [
       "'I LOVE PYTHON'"
      ]
     },
     "execution_count": 34,
     "metadata": {},
     "output_type": "execute_result"
    }
   ],
   "source": [
    "#answer 12\n",
    "enter=\"I+LOVE+PYTHON\"\n",
    "enter.replace('+',' ')"
   ]
  },
  {
   "cell_type": "code",
   "execution_count": 35,
   "metadata": {},
   "outputs": [
    {
     "name": "stdout",
     "output_type": "stream",
     "text": [
      "<class 'int'> <class 'float'> <class 'list'> <class 'str'>\n"
     ]
    }
   ],
   "source": [
    "#Print answer 13\n",
    "a,b,c,d=5,2.0,[1,2,['python','dvsdv']],'I LOVE PYTHON'\n",
    "print(type(a),type(b),type(c),type(d))"
   ]
  },
  {
   "cell_type": "code",
   "execution_count": null,
   "metadata": {},
   "outputs": [],
   "source": [
    "#print answer 14\n",
    "a = float(input(\"Enter the value of coefficient of x^2, a : \"))\n",
    "b = float(input(\"Enter the value of coefficient of x, b : \"))\n",
    "c = float(input(\"Enter the value of constant term, c : \"))\n",
    "\n",
    "if a != 0:\n",
    "    x1 = (-b + ((b**2 - 4*a*c)**(1/2)))/(2*a)  \n",
    "    x2 = (-b - ((b**2 - 4*a*c)**(1/2)))/(2*a)         \n",
    "    print(\"x = {}, {}\".format(x1, x2))\n",
    "else:\n",
    "    print(\"Invalid input. a cannot be equal to 0\")"
   ]
  },
  {
   "cell_type": "code",
   "execution_count": null,
   "metadata": {},
   "outputs": [],
   "source": [
    "#print answer 15\n",
    "n=float(input(''))\n",
    "x=0\n",
    "if n >=0:\n",
    "    x=n*(n+1)//2\n",
    "    print('sum of {} the number is {}'.format(n,x))\n",
    "else:\n",
    "    print('Invalid no.')\n",
    "    "
   ]
  },
  {
   "cell_type": "code",
   "execution_count": null,
   "metadata": {},
   "outputs": [],
   "source": []
  }
 ],
 "metadata": {
  "kernelspec": {
   "display_name": "Python 3",
   "language": "python",
   "name": "python3"
  },
  "language_info": {
   "codemirror_mode": {
    "name": "ipython",
    "version": 3
   },
   "file_extension": ".py",
   "mimetype": "text/x-python",
   "name": "python",
   "nbconvert_exporter": "python",
   "pygments_lexer": "ipython3",
   "version": "3.7.3"
  }
 },
 "nbformat": 4,
 "nbformat_minor": 2
}
