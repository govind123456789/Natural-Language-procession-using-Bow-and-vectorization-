{
 "cells": [
  {
   "cell_type": "markdown",
   "metadata": {},
   "source": [
    "# WEB SCRAPING - WORKSHEET 2\n",
    "## ANSWER KEYS\n",
    "\n",
    "1. (A) search_all\n",
    "2. (C) Unix\n",
    "3. (C) ASP\n",
    "4. (D) send_keys()\n",
    "5. (B) Indexing\n",
    "6. (C) Web-spider\n",
    "7. (C) WebDriverWait\n",
    "8. (C) verifyelement\n",
    "9. (C) XML\n",
    "10. (B) find_element_by_id\n",
    "11. (A) class                                                                                                                \n",
    "    (B) href                                                                                                                \n",
    "12. (B) soup_parser                                                                                                           \n",
    "    (C) lxml                                                                                                                  \n",
    "13. (A) Selenium                                                                                                              \n",
    "    (B) BeautifulSoup                                                                                                         \n",
    "    (C) Requests                                                                                                             \n",
    "14. **Answer is as follows :**"
   ]
  },
  {
   "cell_type": "code",
   "execution_count": 1,
   "metadata": {},
   "outputs": [],
   "source": [
    "# Scraping Rayban Glasses\n",
    "\n",
    "# Importing Libraries\n",
    "import selenium\n",
    "import pandas as pd\n",
    "import time\n",
    "\n",
    "# Importing selenium webdriver  \n",
    "from selenium import webdriver\n",
    "from selenium.webdriver.chrome.options import Options\n",
    "# Importing required Exceptions which needs to handled\n",
    "from selenium.common.exceptions import StaleElementReferenceException, NoSuchElementException, ElementClickInterceptedException"
   ]
  },
  {
   "cell_type": "code",
   "execution_count": 9,
   "metadata": {},
   "outputs": [],
   "source": [
    "# Activating the chrome browserhttp://localhost:8888/notebooks/Downloads/Job%20Crawl.ipynb#\n",
    "driver = webdriver.Chrome(r'C:\\Users\\GT\\Music\\chromedriver.exe')"
   ]
  },
  {
   "cell_type": "code",
   "execution_count": 10,
   "metadata": {},
   "outputs": [],
   "source": [
    "# Opening the homepage of Amazon.in\n",
    "driver.get('https://www.flipkart.com')"
   ]
  },
  {
   "cell_type": "code",
   "execution_count": 11,
   "metadata": {},
   "outputs": [],
   "source": [
    "# searching for raban sunglasses\n",
    "search_field=driver.find_element_by_xpath(\"//div[@class='O8ZS_U']/input\")\n",
    "search_field.send_keys(\"rayban sunglasses\")\n",
    "search_button=driver.find_element_by_xpath(\"//div[@class='col-12-12 _2tVp4j']/button\")\n",
    "search_button.submit()"
   ]
  },
  {
   "cell_type": "code",
   "execution_count": 12,
   "metadata": {},
   "outputs": [],
   "source": [
    "#getting the images url\n",
    "urls=[i.get_attribute('src') for i in driver.find_elements_by_xpath(\"//img[@class='_3togXc']\")]"
   ]
  },
  {
   "cell_type": "code",
   "execution_count": 13,
   "metadata": {},
   "outputs": [
    {
     "data": {
      "text/plain": [
       "0"
      ]
     },
     "execution_count": 13,
     "metadata": {},
     "output_type": "execute_result"
    }
   ],
   "source": [
    "len(urls)"
   ]
  },
  {
   "cell_type": "code",
   "execution_count": 14,
   "metadata": {},
   "outputs": [],
   "source": [
    "#create directory to save_images\n",
    "import os\n",
    "import requests\n",
    "def create_dir(dirname):\n",
    "     os.mkdir(os.path.join(os.getcwd(),dirname))\n",
    "     return (os.path.join(os.getcwd(),dirname))"
   ]
  },
  {
   "cell_type": "code",
   "execution_count": 15,
   "metadata": {},
   "outputs": [],
   "source": [
    "image_dir=create_dir(\"Rayban\")"
   ]
  },
  {
   "cell_type": "code",
   "execution_count": 16,
   "metadata": {},
   "outputs": [],
   "source": [
    "# reading the images  from urls and then saving them in the rayban directory created above\n",
    "for index,url in enumerate(urls):\n",
    "    response=requests.get(url)\n",
    "    with open(r\"\"+image_dir+\"/image{}\".format(index)+\".jpeg\",\"wb\") as f:\n",
    "        f.write(response.content)"
   ]
  },
  {
   "cell_type": "markdown",
   "metadata": {},
   "source": [
    "15. **Answer is as follows :**"
   ]
  },
  {
   "cell_type": "code",
   "execution_count": 17,
   "metadata": {},
   "outputs": [],
   "source": [
    "# Scraping Mouse data\n",
    "\n",
    "# Opening the homepage of Amazon.in\n",
    "driver.get('https://www.amazon.in/')"
   ]
  },
  {
   "cell_type": "code",
   "execution_count": 18,
   "metadata": {},
   "outputs": [],
   "source": [
    "# searching for mouses\n",
    "search_field=driver.find_element_by_xpath(\"//div[@class='nav-search-field ']/input\")\n",
    "search_field.send_keys(\"mouses\")\n",
    "search_button=driver.find_element_by_xpath(\"//div[@class='nav-search-submit nav-sprite']/span/input\")\n",
    "search_button.submit()"
   ]
  },
  {
   "cell_type": "code",
   "execution_count": 19,
   "metadata": {},
   "outputs": [],
   "source": [
    "#setting the price filter for price<500\n",
    "min_field=driver.find_element_by_xpath(\"//li[@id='p_36/price-range']/span[1]/form[1]/input[5]\")\n",
    "min_field.send_keys(\"0\")  \n",
    "max_field=driver.find_element_by_xpath(\"//li[@id='p_36/price-range']/span[1]/form[1]/input[6]\")    \n",
    "max_field.send_keys(\"500\")\n",
    "search_filter=driver.find_element_by_xpath(\"//li[@id='p_36/price-range']/span[1]/form[1]/span[3]/span[1]/input\")                                    \n",
    "search_filter.submit()                                       "
   ]
  },
  {
   "cell_type": "code",
   "execution_count": 20,
   "metadata": {},
   "outputs": [],
   "source": [
    "# getting the required info of the mouses\n",
    "price=[]\n",
    "model_name=[]\n",
    "for page in range(0,10):\n",
    "        if len(price)>20:\n",
    "            break\n",
    "        for i in driver.find_elements_by_xpath(\"//div[@class='a-row']/a/span[1]/span[2]/span[2]\"):\n",
    "            price.append(i.text)\n",
    "        for i in driver.find_elements_by_xpath(\"//h2[@class='a-size-mini a-spacing-none a-color-base s-line-clamp-2']/a/span\"):\n",
    "            model_name.append(i.text)\n",
    "        #getting the next page button and clicking\n",
    "        next_page=driver.find_element_by_xpath(\"//li[@class='a-last']/a\").get_attribute(\"href\")\n",
    "        driver.get(next_page)\n",
    "        \n",
    "   "
   ]
  },
  {
   "cell_type": "code",
   "execution_count": 21,
   "metadata": {
    "scrolled": true
   },
   "outputs": [
    {
     "data": {
      "text/html": [
       "<div>\n",
       "<style scoped>\n",
       "    .dataframe tbody tr th:only-of-type {\n",
       "        vertical-align: middle;\n",
       "    }\n",
       "\n",
       "    .dataframe tbody tr th {\n",
       "        vertical-align: top;\n",
       "    }\n",
       "\n",
       "    .dataframe thead th {\n",
       "        text-align: right;\n",
       "    }\n",
       "</style>\n",
       "<table border=\"1\" class=\"dataframe\">\n",
       "  <thead>\n",
       "    <tr style=\"text-align: right;\">\n",
       "      <th></th>\n",
       "      <th>model_name</th>\n",
       "      <th>price</th>\n",
       "    </tr>\n",
       "  </thead>\n",
       "  <tbody>\n",
       "    <tr>\n",
       "      <th>0</th>\n",
       "      <td>RiaTech 2 Pack Mouse Pad, Water Resistance Coa...</td>\n",
       "      <td>329</td>\n",
       "    </tr>\n",
       "    <tr>\n",
       "      <th>1</th>\n",
       "      <td>Parikshit Sublimation Anti-Skid Designer Mouse...</td>\n",
       "      <td>218</td>\n",
       "    </tr>\n",
       "    <tr>\n",
       "      <th>2</th>\n",
       "      <td>HP X1000 Wired Mouse (Black/Grey)</td>\n",
       "      <td>349</td>\n",
       "    </tr>\n",
       "    <tr>\n",
       "      <th>3</th>\n",
       "      <td>Lenovo 300 Wired USB Mouse, GX30M39704</td>\n",
       "      <td>299</td>\n",
       "    </tr>\n",
       "    <tr>\n",
       "      <th>4</th>\n",
       "      <td>Logitech M90 Wired USB Mouse, 1000 DPI Optical...</td>\n",
       "      <td>299</td>\n",
       "    </tr>\n",
       "    <tr>\n",
       "      <th>5</th>\n",
       "      <td>Portronics Toad 12 Wireless 2.4G Optical Mouse...</td>\n",
       "      <td>450</td>\n",
       "    </tr>\n",
       "    <tr>\n",
       "      <th>6</th>\n",
       "      <td>Zinq Technologies 1070 3200 DPI LED Backlight ...</td>\n",
       "      <td>449</td>\n",
       "    </tr>\n",
       "    <tr>\n",
       "      <th>7</th>\n",
       "      <td>Mi Portable Wireless Mouse with Ergonomic Desi...</td>\n",
       "      <td>548</td>\n",
       "    </tr>\n",
       "    <tr>\n",
       "      <th>8</th>\n",
       "      <td>Ant Esports GM200W Gaming Mouse Wired, 6 Progr...</td>\n",
       "      <td>449</td>\n",
       "    </tr>\n",
       "    <tr>\n",
       "      <th>9</th>\n",
       "      <td>Dell Ms116 275-BBCB Optical Mouse</td>\n",
       "      <td>349</td>\n",
       "    </tr>\n",
       "    <tr>\n",
       "      <th>10</th>\n",
       "      <td>Portronics Toad 12 Wireless 2.4G Optical Mouse...</td>\n",
       "      <td>450</td>\n",
       "    </tr>\n",
       "    <tr>\n",
       "      <th>11</th>\n",
       "      <td>Zinq Technologies ZQ233 Wired Mouse with 1000D...</td>\n",
       "      <td>179</td>\n",
       "    </tr>\n",
       "    <tr>\n",
       "      <th>12</th>\n",
       "      <td>Xmate Rio Wired USB Gaming Mouse, Led Backlit,...</td>\n",
       "      <td>399</td>\n",
       "    </tr>\n",
       "    <tr>\n",
       "      <th>13</th>\n",
       "      <td>iBall FreeGo G20 High Speed Wireless Optical M...</td>\n",
       "      <td>432</td>\n",
       "    </tr>\n",
       "    <tr>\n",
       "      <th>14</th>\n",
       "      <td>Zinq Technologies ZQ233 Wired Mouse with 1000D...</td>\n",
       "      <td>179</td>\n",
       "    </tr>\n",
       "    <tr>\n",
       "      <th>15</th>\n",
       "      <td>Adcom 4D Slim Wireless Optical Mouse with Nano...</td>\n",
       "      <td>349</td>\n",
       "    </tr>\n",
       "    <tr>\n",
       "      <th>16</th>\n",
       "      <td>Mi Portable Wireless Mouse with Ergonomic Desi...</td>\n",
       "      <td>548</td>\n",
       "    </tr>\n",
       "    <tr>\n",
       "      <th>17</th>\n",
       "      <td>ProDot Universal MU253s USB 1000 DPI Wired Opt...</td>\n",
       "      <td>174</td>\n",
       "    </tr>\n",
       "    <tr>\n",
       "      <th>18</th>\n",
       "      <td>Zebronics Zeb-Power Plus USB Optical Mouse</td>\n",
       "      <td>199</td>\n",
       "    </tr>\n",
       "    <tr>\n",
       "      <th>19</th>\n",
       "      <td>Portronics POR-015 Toad 11 Wireless Mouse with...</td>\n",
       "      <td>303</td>\n",
       "    </tr>\n",
       "  </tbody>\n",
       "</table>\n",
       "</div>"
      ],
      "text/plain": [
       "                                           model_name price\n",
       "0   RiaTech 2 Pack Mouse Pad, Water Resistance Coa...   329\n",
       "1   Parikshit Sublimation Anti-Skid Designer Mouse...   218\n",
       "2                   HP X1000 Wired Mouse (Black/Grey)   349\n",
       "3              Lenovo 300 Wired USB Mouse, GX30M39704   299\n",
       "4   Logitech M90 Wired USB Mouse, 1000 DPI Optical...   299\n",
       "5   Portronics Toad 12 Wireless 2.4G Optical Mouse...   450\n",
       "6   Zinq Technologies 1070 3200 DPI LED Backlight ...   449\n",
       "7   Mi Portable Wireless Mouse with Ergonomic Desi...   548\n",
       "8   Ant Esports GM200W Gaming Mouse Wired, 6 Progr...   449\n",
       "9                   Dell Ms116 275-BBCB Optical Mouse   349\n",
       "10  Portronics Toad 12 Wireless 2.4G Optical Mouse...   450\n",
       "11  Zinq Technologies ZQ233 Wired Mouse with 1000D...   179\n",
       "12  Xmate Rio Wired USB Gaming Mouse, Led Backlit,...   399\n",
       "13  iBall FreeGo G20 High Speed Wireless Optical M...   432\n",
       "14  Zinq Technologies ZQ233 Wired Mouse with 1000D...   179\n",
       "15  Adcom 4D Slim Wireless Optical Mouse with Nano...   349\n",
       "16  Mi Portable Wireless Mouse with Ergonomic Desi...   548\n",
       "17  ProDot Universal MU253s USB 1000 DPI Wired Opt...   174\n",
       "18         Zebronics Zeb-Power Plus USB Optical Mouse   199\n",
       "19  Portronics POR-015 Toad 11 Wireless Mouse with...   303"
      ]
     },
     "execution_count": 21,
     "metadata": {},
     "output_type": "execute_result"
    }
   ],
   "source": [
    "# creating a dataframe from the scraped data of only 20 mouses\n",
    "df=pd.DataFrame()\n",
    "df['model_name']=model_name[0:20]\n",
    "df['price']=price[0:20]\n",
    "df"
   ]
  },
  {
   "cell_type": "markdown",
   "metadata": {},
   "source": [
    "# End of Document"
   ]
  },
  {
   "cell_type": "code",
   "execution_count": null,
   "metadata": {},
   "outputs": [],
   "source": []
  }
 ],
 "metadata": {
  "kernelspec": {
   "display_name": "Python 3",
   "language": "python",
   "name": "python3"
  },
  "language_info": {
   "codemirror_mode": {
    "name": "ipython",
    "version": 3
   },
   "file_extension": ".py",
   "mimetype": "text/x-python",
   "name": "python",
   "nbconvert_exporter": "python",
   "pygments_lexer": "ipython3",
   "version": "3.7.3"
  }
 },
 "nbformat": 4,
 "nbformat_minor": 4
}
