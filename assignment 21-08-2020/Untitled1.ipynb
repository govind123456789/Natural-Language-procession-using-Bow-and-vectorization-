{
 "cells": [
  {
   "cell_type": "code",
   "execution_count": 1,
   "metadata": {},
   "outputs": [],
   "source": [
    "import string"
   ]
  },
  {
   "cell_type": "code",
   "execution_count": 2,
   "metadata": {},
   "outputs": [],
   "source": [
    "from collections import Counter\n",
    "\n",
    "import matplotlib.pyplot as plt"
   ]
  },
  {
   "cell_type": "code",
   "execution_count": 10,
   "metadata": {},
   "outputs": [],
   "source": [
    "\n",
    "def tweets():\n",
    "    import GetOldTweets3 as got\n",
    "    tweetCriteria =got.manager.TweetCriteria().setQuerySearch('#trumph') \\\n",
    "        .setSince(\"2019-10-15\") \\\n",
    "        .setUntil(\"2019-11-15\") \\\n",
    "        .setMaxTweets(150)\n",
    "    # Creation of list that contains all tweets\n",
    "    tweets = got.manager.TweetManager.getTweets(tweetCriteria)\n",
    "    # Creating list of chosen tweet data\n",
    "    text_tweets = [[tweet.text] for tweet in tweets]\n",
    "    return text_tweets"
   ]
  },
  {
   "cell_type": "code",
   "execution_count": 13,
   "metadata": {},
   "outputs": [],
   "source": [
    "# reading text file\n",
    "text = \"\"\n",
    "text_tweets = tweets()\n",
    "\n",
    "length = len(text_tweets)\n",
    "\n",
    "for i in range(0, length):\n",
    "    text = text_tweets[i][0] + \" \" + text\n",
    "\n",
    "# converting to lowercase\n",
    "lower_case = text.lower()\n",
    "\n",
    "# Removing punctuations\n",
    "cleaned_text = lower_case.translate(str.maketrans('', '', string.punctuation))\n",
    "\n",
    "# splitting text into words\n",
    "tokenized_words = cleaned_text.split()"
   ]
  },
  {
   "cell_type": "code",
   "execution_count": 14,
   "metadata": {},
   "outputs": [
    {
     "data": {
      "text/plain": [
       "[['Resmen arada #Trumph bile daha komik, gerçek geliyor..'],\n",
       " [\"It's time to Game with Intel for a Mightier PC Experience! Grab a chance at a key from @IntelIndia &amp; @Dell_IN to access the Closed PC Beta Weekend for Marvel's Avengers\"],\n",
       " ['अभी एक ट्वीट देखा भक्त इस ठरकी की पूजा कर रहे थे बड़े पापा #trumph '],\n",
       " ['http://bit.ly/2Qg7y3o #DayTrading #Economy #Trumph #Education #Finance #WallStreet'],\n",
       " ['#ImpeachmentInquiry #Trumph @realDonaldTrump'],\n",
       " ['http://bit.ly/2KfiLxi #CryptoCurrency #DayTrader #Business #Wealth #Blockchain #Investing #Money #DayTrading #Economy #Trumph #Education #Finance #WallStreet'],\n",
       " ['\"The veterans of our military services have put their lives on the line to protect the freedoms that we enjoy. http://pulvyboutiques.com #Pulvyboutique #boutique #alumrock #support #thankyou #work #service #home #democrats #americans #unitedstates #wwi #god #honor #health #trumph '],\n",
       " ['Simple sa solution hai iss ka toh.Ek 1000 gaz ka plot lo.500gz me Mandir aur 500gz me masjid.Deewar TRUMP se banwa lo HSSKO AATI HAI #AYODHYAVERDICT #RAHULDUA @therahuldua #BabriMasjidCase #MandirWahiBanayenge #Trumph'],\n",
       " ['Maybe the #NRA has #Trumph trying out #ConcealedCarry. Is he sporting a .45 concealed in the presidential #Codpiece?'],\n",
       " ['Another successful design... \\\\#Logo_Design #vector #Facebook_Post #Facebook_Cover_design #photoshop_editings #biodegradable #green #visiting_card #youtube #trumph #icon #documentary #instergrampost #tharagraphics @… https://www.instagram.com/p/B4i65ArAZg0/?igshid=sc70tx2545n4'],\n",
       " ['O mektup sonrası @tcbestepe nin #Trumph ile görüşmesi, Türk Milleti için itibar kaybıdır !'],\n",
       " [\"@GOP if you abandon #tRumph in the next 72 hours you'll be 1st class tuxedo rats, wait any longer and you are just rats. First we take Manhattan (code for the House) then we take Berlin (code for the Senate)! 2020 #VoteThemAllOut\"],\n",
       " ['Los mismos mamonsitos que seguramente creen que la \"ayuda\" que ofreció #Trumph para exterminar el narco es una buena idea.'],\n",
       " ['Wow, no consideration for the town folks and the future generations , #Trumph! '],\n",
       " ['Just like #tRumph !!! '],\n",
       " ['#tRumph talking trash again, boring. Who believes this LiarMaximus, the polls are very much the opposite. #ImpeachDonaldTrumpNOW'],\n",
       " ['कब ठोकानेवाले हो उसे , ए भी तो बताओ Then when you will CRATE him , tweet about that too @realDonaldTrump #trumph hai to mumkin Hain'],\n",
       " ['リア周りのデザインが カッコいいバイク 3気筒エンジンで排気管が2つ... エンジンの構造が気になる #行くぜ阿蘇 #BikeJIN祭り #Trumph #SpeedTripleRS'],\n",
       " ['エキパイのレイアウトが秀逸 #BikeJIN祭り #Scramber1200 #トライアンフ #Trumph '],\n",
       " ['I think the POV of this tweet is off because I think most of planet earth wants to see #tRumph get deservedly fucked.'],\n",
       " ['http://bit.ly/320KMil #Insider #Varchev #VarchevFinance #BiserVarchev #BloombergTV #Stocks #StockMarket #Nasdaq #Forex #Trader #Success #Milions #Billons #CryptoCurrency #DayTrader #Business #Wealth #Blockchain #Investing #Money #DayTrading #Economy #Trumph #Education'],\n",
       " ['Get a pair Lindsey and confess that #tRumph is guilty!!! It is clear!!!'],\n",
       " [\"It's time to Game with Intel for a Mightier PC Experience! Grab a chance at a key from @IntelIndia &amp; @Dell_IN to access the Closed PC Beta Weekend for Marvel's Avengers\"],\n",
       " ['All those people losing house’s or businesses in #californiawildfires and all #cablenetworks want to focus on #impeachment and #Trumph. You wonder why ratings go down and #HBO and other programming @YouTube is wiping you off the map. Will not take the time to help a fellow'],\n",
       " ['Es ist so unwürdig. Und wird den Zorn des sog. IS anstacheln u. neue Gewalt fördern. #Trumph schadet seinem Land immer fort u. immerfort. '],\n",
       " ['Oh Joe you are so wrong. We want to hear it and we want to hear it more.We want #tRumph and @GOP to hear it MORE. #BooTrump #LockHimUp'],\n",
       " [\"I'm confident The Moron #tRumph mistook all the Red for maga hats. \"],\n",
       " [\"President #Trumph revealed the news of #Abu-bakr al Baghdadi's death.\"],\n",
       " ['Hope this time this news is true #trumph'],\n",
       " ['Ha ha ha.. they are following #Trumph style.. 1st they did coverage on #HongKongProtests too bargain in better way.'],\n",
       " ['Webiaron tanto por #Trumph y #Bolsonaro ,sin saber que el verdadero monstruo era @sebastianpinera y @andreschadwickp Nos equivocamos..... #FuerzaChile #ChileDesperto'],\n",
       " ['https://www.youtube.com/watch?v=wXw7SyB026c Trump Suess Parodies 2: #halloween #fall #october #autumn #inktober #halloweenmakeup #brasil #trump #pumpkin #pumpkins #pumpkincarving #trumph #pumpkins #whitehouse #congress #pelosi #impeach #impeachment #syria #kurds #warren #mulvaney #bernie'],\n",
       " ['Trump Suess Parodies: https://www.youtube.com/watch?v=2eiu5dRSGc8 #halloween #fall #october #autumn #inktober #halloweenmakeup #brasil #trump #pumpkin #pumpkins #pumpkincarving #trumph #pumpkins #whitehouse #congress #pelosi #impeach #impeachment #syria #kurds #warren #mulvaney #bernie'],\n",
       " [\"It's time to Game with Intel for a Mightier PC Experience! Grab a chance at a key from @IntelIndia &amp; @Dell_IN to access the Closed PC Beta Weekend for Marvel's Avengers\"],\n",
       " ['ABD’li #Trumph taşak geçiyor, dünya alay ediyor reisle. Sen k.ç yalamaya devam et Burhan. #BarisPinarHarekati rezilliğini, algı operasyonlarla örtbas etmeye çalışıyor Recep. Sizin gibi salakları kandırabilirler ama bizleri asla! Anladın mı Kuzu?'],\n",
       " ['Fetih Süresine ne oldu? Camilerdeki boş kafalı hocalar sela okumaya devam ediyorlar mı #FetöOğlanı Kuzu. Tükürdüğünüzü yaladınız. #Trumph taşak geçiyor. Rezil ettiniz ülkeyi hırsızlar.'],\n",
       " ['Upon hearing #tRumph is getting ganged raped with a broom in prison we can all tweet: \"It\\'s like a couple of kids in a school yard, sometimes you gotta let them fight.\"'],\n",
       " ['@KatiPiri is usual “costumer” for such infos. Excellent description for promoter of the “naked lies”, Mr.Kenasari #Syria #KatiPiri #Terror #PKK #ISIS #Kurds #PeaceSpringOperation #Trumph'],\n",
       " ['I wonder how many people go to #trumph rallies for the stand up comedy.'],\n",
       " [\"#Trumph '쿼 프로 쿼(#quidproquo)', 상응 조치 취했다! http://m.pressian.com/m/m_article/?no=261651\"],\n",
       " ['Bu mektubu Trump yazdıysa, ona dersini vermek bu milletin her ferdinin boynunun borcudur. Bu mektup Türk milletine hakarettir. Biz kuru ekmek ve erik hoşafıyla zafer kazanmış bir halkın torunlarıyız. Gerekirse yine yaparız. #trumph '],\n",
       " ['#Trumph dumb #Pelosi dumber'],\n",
       " ['Why he’s taking @SecPompeo too light,When #trumph will come,will talk, @RTErdogan direct with @realDonaldTrump, #RecepTayyipErdogan #syria #syriapolitics'],\n",
       " ['#Obama bombarda la qualunque e vince il nobel per la pace, #Trumph ritira le truppe da un luogo di guerra e viene criticato da destra e da sinistra, qualcosa non gira nel verso giusto'],\n",
       " ['#Assad killed 2 million ppl with assist of #İran and #russia in #Syria now #Terrorists r united with them against #Turkey. Turkish army has one goal; to liberate occupied northernSyria from #PKK #YPG #LindseyGraham #Trumph for 4 million #Syrianrefugees in Turkey'],\n",
       " ['#trumph #putin #Europa #KurdishGenocide #Erdogan'],\n",
       " ['http://Facebook.com/CeptelefonuTamirikursu gsmrepaircourse Kursa gel kendi işini kur . Sınav derdin, patron derdin olmasın .Geleceğin mesleği ile hayata bağlan whatsapp:0542 5856892 instagram: http://instagram.com/ceptelefonuserviskursu Pazartesi Salı #trumph #VatanMesaimiz'],\n",
       " ['Kurdish WWII veterans: Trump wasn’t born when we fought the Nazis https://www.rudaw.net/english/kurdistan/13102019 #kurd #Kurdistan #WW2 #Trumph']]"
      ]
     },
     "execution_count": 14,
     "metadata": {},
     "output_type": "execute_result"
    }
   ],
   "source": [
    "text_tweets"
   ]
  },
  {
   "cell_type": "code",
   "execution_count": 15,
   "metadata": {},
   "outputs": [],
   "source": [
    "stop_words = [\"i\", \"me\", \"my\", \"myself\", \"we\", \"our\", \"ours\", \"ourselves\", \"you\", \"your\", \"yours\", \"yourself\",\n",
    "              \"yourselves\", \"he\", \"him\", \"his\", \"himself\", \"she\", \"her\", \"hers\", \"herself\", \"it\", \"its\", \"itself\",\n",
    "              \"they\", \"them\", \"their\", \"theirs\", \"themselves\", \"what\", \"which\", \"who\", \"whom\", \"this\", \"that\", \"these\",\n",
    "              \"those\", \"am\", \"is\", \"are\", \"was\", \"were\", \"be\", \"been\", \"being\", \"have\", \"has\", \"had\", \"having\", \"do\",\n",
    "              \"does\", \"did\", \"doing\", \"a\", \"an\", \"the\", \"and\", \"but\", \"if\", \"or\", \"because\", \"as\", \"until\", \"while\",\n",
    "              \"of\", \"at\", \"by\", \"for\", \"with\", \"about\", \"against\", \"between\", \"into\", \"through\", \"during\", \"before\",\n",
    "              \"after\", \"above\", \"below\", \"to\", \"from\", \"up\", \"down\", \"in\", \"out\", \"on\", \"off\", \"over\", \"under\", \"again\",\n",
    "              \"further\", \"then\", \"once\", \"here\", \"there\", \"when\", \"where\", \"why\", \"how\", \"all\", \"any\", \"both\", \"each\",\n",
    "              \"few\", \"more\", \"most\", \"other\", \"some\", \"such\", \"no\", \"nor\", \"not\", \"only\", \"own\", \"same\", \"so\", \"than\",\n",
    "              \"too\", \"very\", \"s\", \"t\", \"can\", \"will\", \"just\", \"don\", \"should\", \"now\"]\n",
    "\n",
    "# Removing stop words from the tokenized words list\n",
    "final_words = [word for word in tokenized_words if word not in stop_words]"
   ]
  },
  {
   "cell_type": "code",
   "execution_count": 16,
   "metadata": {},
   "outputs": [
    {
     "name": "stdout",
     "output_type": "stream",
     "text": [
      "Counter({' adequate': 1, ' singled out': 1})\n"
     ]
    }
   ],
   "source": [
    "# Get emotions text\n",
    "list_emotions = []\n",
    "with open('emotions.txt', 'r') as file:\n",
    "    for line in file:\n",
    "        clear_line = line.replace('\\n', '').replace(',', '').replace(\"'\", '').strip()\n",
    "        before_word, before_emotion = clear_line.split(':')\n",
    "        if before_word in final_words:\n",
    "            list_emotions.append(before_emotion)\n",
    "\n",
    "w = Counter(list_emotions)\n",
    "print(w)\n"
   ]
  },
  {
   "cell_type": "code",
   "execution_count": 17,
   "metadata": {},
   "outputs": [
    {
     "data": {
      "image/png": "[encoded data removed]",
      "text/plain": [
       "<Figure size 432x288 with 1 Axes>"
      ]
     },
     "metadata": {
      "needs_background": "light"
     },
     "output_type": "display_data"
    }
   ],
   "source": [
    "fig, ax1 = plt.subplots()\n",
    "ax1.bar(w.keys(), w.values())\n",
    "fig.autofmt_xdate()\n",
    "plt.savefig('graph.png')\n",
    "plt.show()"
   ]
  },
  {
   "cell_type": "code",
   "execution_count": 18,
   "metadata": {},
   "outputs": [
    {
     "ename": "TypeError",
     "evalue": "'type' object is not iterable",
     "output_type": "error",
     "traceback": [
      "\u001b[1;31m---------------------------------------------------------------------------\u001b[0m",
      "\u001b[1;31mTypeError\u001b[0m                                 Traceback (most recent call last)",
      "\u001b[1;32m<ipython-input-18-f71cdbd91966>\u001b[0m in \u001b[0;36m<module>\u001b[1;34m\u001b[0m\n\u001b[1;32m----> 1\u001b[1;33m \u001b[0mlist\u001b[0m\u001b[1;33m(\u001b[0m\u001b[0mstr\u001b[0m\u001b[1;33m)\u001b[0m\u001b[1;33m\u001b[0m\u001b[1;33m\u001b[0m\u001b[0m\n\u001b[0m",
      "\u001b[1;31mTypeError\u001b[0m: 'type' object is not iterable"
     ]
    }
   ],
   "source": [
    "list(str)"
   ]
  },
  {
   "cell_type": "code",
   "execution_count": 26,
   "metadata": {},
   "outputs": [
    {
     "data": {
      "text/plain": [
       "{' ', 'c', 'i', 'j', 's'}"
      ]
     },
     "execution_count": 26,
     "metadata": {},
     "output_type": "execute_result"
    }
   ],
   "source": [
    "set(str)"
   ]
  },
  {
   "cell_type": "code",
   "execution_count": 27,
   "metadata": {},
   "outputs": [
    {
     "data": {
      "text/plain": [
       "frozenset({' ', 'c', 'i', 'j', 's'})"
      ]
     },
     "execution_count": 27,
     "metadata": {},
     "output_type": "execute_result"
    }
   ],
   "source": [
    "frozenset(str)"
   ]
  },
  {
   "cell_type": "code",
   "execution_count": 28,
   "metadata": {},
   "outputs": [
    {
     "ename": "ValueError",
     "evalue": "dictionary update sequence element #0 has length 1; 2 is required",
     "output_type": "error",
     "traceback": [
      "\u001b[1;31m---------------------------------------------------------------------------\u001b[0m",
      "\u001b[1;31mValueError\u001b[0m                                Traceback (most recent call last)",
      "\u001b[1;32m<ipython-input-28-d8382e6ea532>\u001b[0m in \u001b[0;36m<module>\u001b[1;34m\u001b[0m\n\u001b[1;32m----> 1\u001b[1;33m \u001b[0mdict\u001b[0m\u001b[1;33m(\u001b[0m\u001b[0mstr\u001b[0m\u001b[1;33m)\u001b[0m\u001b[1;33m\u001b[0m\u001b[1;33m\u001b[0m\u001b[0m\n\u001b[0m",
      "\u001b[1;31mValueError\u001b[0m: dictionary update sequence element #0 has length 1; 2 is required"
     ]
    }
   ],
   "source": [
    "dict(str)"
   ]
  },
  {
   "cell_type": "code",
   "execution_count": 29,
   "metadata": {},
   "outputs": [
    {
     "name": "stdout",
     "output_type": "stream",
     "text": [
      "Printing multiples of 3 from 1 to 10\n",
      "3\n",
      "6\n",
      "9\n",
      "12\n",
      "15\n",
      "18\n",
      "21\n",
      "24\n",
      "27\n",
      "30\n",
      "Rest of program\n"
     ]
    }
   ],
   "source": [
    "print('Printing multiples of 3 from 1 to 10')\n",
    "i=1\n",
    "while i < 11:\n",
    "    print(3*i)\n",
    "    i=i+1\n",
    "print(\"Rest of program\")"
   ]
  },
  {
   "cell_type": "code",
   "execution_count": 48,
   "metadata": {},
   "outputs": [
    {
     "name": "stdout",
     "output_type": "stream",
     "text": [
      "\n",
      "\n",
      "\n",
      "\n",
      "\n",
      "\n",
      "\n",
      "\n",
      "\n",
      "*#*\n",
      "\n"
     ]
    }
   ],
   "source": [
    "i=1\n",
    "while i <= 11:\n",
    "    j=10\n",
    "    while j == i:\n",
    "        print('*#*',end=\"\")\n",
    "        j=j-1\n",
    "    print()\n",
    "    i=i+1"
   ]
  },
  {
   "cell_type": "code",
   "execution_count": 50,
   "metadata": {},
   "outputs": [
    {
     "name": "stdout",
     "output_type": "stream",
     "text": [
      "1\n",
      "2\n",
      "3\n",
      "4\n",
      "5\n",
      "6\n",
      "7\n",
      "8\n",
      "9\n",
      "10\n",
      "11\n",
      "12\n",
      "41\n",
      "5413\n",
      "13\n",
      "31\n",
      "3\n",
      "31\n",
      "3\n"
     ]
    }
   ],
   "source": [
    "for number in [1,2,3,4,5,6,7,8,9,10,11,12,41,5413,13,31,3,31,3]:\n",
    "    print(number)"
   ]
  },
  {
   "cell_type": "code",
   "execution_count": 53,
   "metadata": {},
   "outputs": [
    {
     "name": "stdout",
     "output_type": "stream",
     "text": [
      "*\n",
      "*\n",
      "*\n",
      "*\n"
     ]
    }
   ],
   "source": [
    "for number in range(1,5):\n",
    "    print('*')"
   ]
  },
  {
   "cell_type": "code",
   "execution_count": 54,
   "metadata": {},
   "outputs": [
    {
     "name": "stdout",
     "output_type": "stream",
     "text": [
      "d\n",
      "l\n",
      "k\n",
      "n\n",
      "l\n",
      "x\n",
      "n\n",
      "d\n",
      "w\n",
      "l\n",
      "n\n",
      "f\n"
     ]
    }
   ],
   "source": [
    "for ch in \"dlknlxndwlnf\":\n",
    "    print(ch)"
   ]
  },
  {
   "cell_type": "code",
   "execution_count": 60,
   "metadata": {},
   "outputs": [
    {
     "name": "stdout",
     "output_type": "stream",
     "text": [
      "h\n",
      "e\n",
      "l\n",
      "l\n",
      "o\n",
      "hello buddy!\n",
      "h\n",
      "i\n",
      "hi friend1\n",
      "h\n",
      "o\n",
      "l\n",
      "a\n",
      "hilwksnwsnd1\n"
     ]
    }
   ],
   "source": [
    "for grt in ['hello','hi','hola']:\n",
    "    for ch in grt:\n",
    "        print(ch)\n",
    "    if grt =='hello':\n",
    "        print(\"hello buddy!\")\n",
    "    else:\n",
    "        if grt =='hi':\n",
    "            print(\"hi friend1\")\n",
    "        else:\n",
    "            print(\"hilwksnwsnd1\")"
   ]
  },
  {
   "cell_type": "code",
   "execution_count": 56,
   "metadata": {},
   "outputs": [
    {
     "name": "stdout",
     "output_type": "stream",
     "text": [
      "hello\n",
      "hi\n",
      "hola\n"
     ]
    }
   ],
   "source": [
    "for grt in ['hello','hi','hola']:\n",
    "    print(grt)"
   ]
  },
  {
   "cell_type": "code",
   "execution_count": 66,
   "metadata": {},
   "outputs": [],
   "source": [
    "s1=\"mlkxslnc anlknlad alndlnd\"\n",
    "s2=\"mlkxslwdm; wlkd wd ad alndlnd\""
   ]
  },
  {
   "cell_type": "code",
   "execution_count": 67,
   "metadata": {},
   "outputs": [
    {
     "data": {
      "text/plain": [
       "0"
      ]
     },
     "execution_count": 67,
     "metadata": {},
     "output_type": "execute_result"
    }
   ],
   "source": [
    "s1.count(s2)"
   ]
  },
  {
   "cell_type": "code",
   "execution_count": null,
   "metadata": {},
   "outputs": [],
   "source": []
  }
 ],
 "metadata": {
  "kernelspec": {
   "display_name": "Python 3",
   "language": "python",
   "name": "python3"
  },
  "language_info": {
   "codemirror_mode": {
    "name": "ipython",
    "version": 3
   },
   "file_extension": ".py",
   "mimetype": "text/x-python",
   "name": "python",
   "nbconvert_exporter": "python",
   "pygments_lexer": "ipython3",
   "version": "3.7.3"
  }
 },
 "nbformat": 4,
 "nbformat_minor": 2
}
