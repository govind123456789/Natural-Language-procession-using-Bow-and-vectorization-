{
 "cells": [
  {
   "cell_type": "code",
   "execution_count": 1,
   "metadata": {},
   "outputs": [],
   "source": [
    "from urllib.request import urlopen\n",
    "from urllib.error import HTTPError"
   ]
  },
  {
   "cell_type": "code",
   "execution_count": 2,
   "metadata": {},
   "outputs": [],
   "source": [
    "from bs4 import BeautifulSoup"
   ]
  },
  {
   "cell_type": "code",
   "execution_count": 3,
   "metadata": {},
   "outputs": [],
   "source": [
    "def Title(url):\n",
    "    try:\n",
    "        html = urlopen(url)\n",
    "    except HTTPError as e:\n",
    "        return None\n",
    "    try:\n",
    "        bsObj = BeautifulSoup(html.read(), \"lxml\")\n",
    "        title = bsObj.body.h1\n",
    "    except AttributeError as e:\n",
    "        return None\n",
    "    return title\n",
    "    \n",
    "    title = Title(url)\n",
    "    if title == None:\n",
    "      return \"Title could not be found\"\n",
    "    else:\n",
    "      return title"
   ]
  },
  {
   "cell_type": "code",
   "execution_count": 4,
   "metadata": {},
   "outputs": [
    {
     "name": "stdout",
     "output_type": "stream",
     "text": [
      "None\n",
      "<h1><a href=\"/helpcenter/\">PC Help Center</a></h1>\n"
     ]
    }
   ],
   "source": [
    "\n",
    "print(Title(\"https://medium.com/datadriveninvestor/an-introduction-to-grid-search-ff57adcc0998\"))\n",
    "print(Title(\"https://pc.net/helpcenter/answers/static_and_dynamic_web_pages#:~:text=%22Static%22%20means%20unchanged%20or%20constant,generated%20on%2Dthe%2Dfly.&text=They%20contain%20HTML%20code%2C%20which,content%20of%20the%20Web%20page.\"))"
   ]
  },
  {
   "cell_type": "code",
   "execution_count": 18,
   "metadata": {},
   "outputs": [
    {
     "name": "stdout",
     "output_type": "stream",
     "text": [
      "https://www.datasciencesociety.net/data-science-career-path-after-college/\n",
      "https://en.wikipedia.org/wiki/Data_science\n",
      "https://en.wikipedia.org/wiki/Big_data\n",
      "https://en.wikipedia.org/wiki/Unstructured_data\n",
      "https://en.wikipedia.org/wiki/Jim_Gray_(computer_scientist)\n",
      "https://www.coursera.org/specializations/jhu-data-science\n",
      "https://www.coursera.org/specializations/jhu-data-science#instructors\n",
      "https://www.coursera.org/specializations/jhu-data-science#enroll\n",
      "https://www.zdnet.com/article/programming-languages-julia-users-most-likely-to-defect-to-python-for-data-science/\n",
      "https://analyticsindiamag.com/top-10-data-scientists-in-india-2020/\n"
     ]
    }
   ],
   "source": [
    " from googlesearch import search\n",
    "try: \n",
    "    from googlesearch import search \n",
    "except ImportError:  \n",
    "    print(\"No module named 'google' found\") \n",
    "  \n",
    "# to search \n",
    "query = \"data science\"\n",
    "  \n",
    "for j in search(query, tld=\"co.in\", num=10, stop=10, pause=2): \n",
    "    print(j) "
   ]
  },
  {
   "cell_type": "code",
   "execution_count": null,
   "metadata": {},
   "outputs": [],
   "source": []
  }
 ],
 "metadata": {
  "kernelspec": {
   "display_name": "Python 3",
   "language": "python",
   "name": "python3"
  },
  "language_info": {
   "codemirror_mode": {
    "name": "ipython",
    "version": 3
   },
   "file_extension": ".py",
   "mimetype": "text/x-python",
   "name": "python",
   "nbconvert_exporter": "python",
   "pygments_lexer": "ipython3",
   "version": "3.7.3"
  }
 },
 "nbformat": 4,
 "nbformat_minor": 2
}
