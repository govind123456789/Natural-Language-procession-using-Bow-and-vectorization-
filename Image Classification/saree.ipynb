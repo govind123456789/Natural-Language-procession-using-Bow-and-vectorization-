{
 "cells": [
  {
   "cell_type": "code",
   "execution_count": 1,
   "metadata": {},
   "outputs": [],
   "source": [
    "from selenium import webdriver\n",
    "import os"
   ]
  },
  {
   "cell_type": "code",
   "execution_count": 2,
   "metadata": {},
   "outputs": [],
   "source": [
    "driver = webdriver.Chrome(executable_path ='chromedriver.exe')"
   ]
  },
  {
   "cell_type": "code",
   "execution_count": 3,
   "metadata": {},
   "outputs": [],
   "source": [
    "my_page =  driver.get(\"https://www.amazon.in/s?k=sari+for+women&page=2&crid=1867OHG9UXEBX&qid=1609583348&sprefix=sar%2Caps%2C313&ref=sr_pg_2\")"
   ]
  },
  {
   "cell_type": "code",
   "execution_count": 4,
   "metadata": {},
   "outputs": [],
   "source": [
    "def directory(dirname):\n",
    "    current_path = os.getcwd()\n",
    "    path = os.path.join(current_path, dirname)\n",
    "    if not os.path.exists(path):\n",
    "        os.makedirs(path)"
   ]
  },
  {
   "cell_type": "code",
   "execution_count": 5,
   "metadata": {},
   "outputs": [],
   "source": [
    "directory(\"sarees\")\n",
    "\n"
   ]
  },
  {
   "cell_type": "code",
   "execution_count": 6,
   "metadata": {},
   "outputs": [
    {
     "data": {
      "text/plain": [
       "40"
      ]
     },
     "execution_count": 6,
     "metadata": {},
     "output_type": "execute_result"
    }
   ],
   "source": [
    "my_page =  driver.get(\"https://www.flipkart.com/search?q=sarees&otracker=search&otracker1=search&marketplace=FLIPKART&as-show=on&as=off\")\n",
    "images1 = driver.find_elements_by_xpath(\"//img[@class='_2r_T1I']\")\n",
    "urls1=[]\n",
    "for image in images1:\n",
    "    source=image.get_attribute('src')\n",
    "    urls1.append(source)\n",
    "len(urls1)"
   ]
  },
  {
   "cell_type": "code",
   "execution_count": 7,
   "metadata": {},
   "outputs": [
    {
     "data": {
      "text/plain": [
       "40"
      ]
     },
     "execution_count": 7,
     "metadata": {},
     "output_type": "execute_result"
    }
   ],
   "source": [
    "my_page =  driver.get(\"https://www.flipkart.com/search?q=sarees&otracker=search&otracker1=search&marketplace=FLIPKART&as-show=on&as=off&sort=price_desc\")\n",
    "images0 = driver.find_elements_by_xpath(\"//img[@class='_2r_T1I']\")\n",
    "urls0=[]\n",
    "for image in images0:\n",
    "    source=image.get_attribute('src')\n",
    "    urls0.append(source)\n",
    "len(urls0)"
   ]
  },
  {
   "cell_type": "code",
   "execution_count": 8,
   "metadata": {},
   "outputs": [
    {
     "data": {
      "text/plain": [
       "58"
      ]
     },
     "execution_count": 8,
     "metadata": {},
     "output_type": "execute_result"
    }
   ],
   "source": [
    "my_page =  driver.get(\"https://www.amazon.in/s?k=sari+for+women&page=2&crid=1867OHG9UXEBX&qid=1609583348&sprefix=sar%2Caps%2C313&ref=sr_pg_2\")\n",
    "images = driver.find_elements_by_xpath(\"//img[@class='s-image']\")\n",
    "urls=[]\n",
    "for image in images:\n",
    "    source=image.get_attribute('src')\n",
    "    urls.append(source)\n",
    "len(urls)"
   ]
  },
  {
   "cell_type": "code",
   "execution_count": 9,
   "metadata": {},
   "outputs": [
    {
     "data": {
      "text/plain": [
       "40"
      ]
     },
     "execution_count": 9,
     "metadata": {},
     "output_type": "execute_result"
    }
   ],
   "source": [
    "my_page =  driver.get(\"https://www.flipkart.com/search?q=sarees&otracker=search&otracker1=search&marketplace=FLIPKART&as-show=on&as=off&sort=popularity\")\n",
    "images2 = driver.find_elements_by_xpath(\"//img[@class='_2r_T1I']\")\n",
    "urls2=[]\n",
    "for image in images2:\n",
    "    source=image.get_attribute('src')\n",
    "    urls2.append(source)\n",
    "    \n",
    "len(urls2)"
   ]
  },
  {
   "cell_type": "code",
   "execution_count": 10,
   "metadata": {},
   "outputs": [
    {
     "data": {
      "text/plain": [
       "52"
      ]
     },
     "execution_count": 10,
     "metadata": {},
     "output_type": "execute_result"
    }
   ],
   "source": [
    "my_page =  driver.get(\"https://www.amazon.com/s?k=sarees&i=fashion&bbn=7141123011&rh=n%3A7141123011&s=date-desc-rank&dc&qid=1609594988&rnid=14630382011&ref=sr_st_date-desc-rank\")\n",
    "images3 = driver.find_elements_by_xpath(\"//img[@class='s-image']\")\n",
    "urls3=[]\n",
    "for image in images3:\n",
    "    source=image.get_attribute('src')\n",
    "    urls3.append(source)\n",
    "len(urls3)"
   ]
  },
  {
   "cell_type": "code",
   "execution_count": 11,
   "metadata": {},
   "outputs": [],
   "source": [
    "import shutil\n",
    "import requests\n"
   ]
  },
  {
   "cell_type": "code",
   "execution_count": 12,
   "metadata": {},
   "outputs": [
    {
     "data": {
      "text/plain": [
       "230"
      ]
     },
     "execution_count": 12,
     "metadata": {},
     "output_type": "execute_result"
    }
   ],
   "source": [
    "k=[urls,urls1,urls2,urls3,urls0]\n",
    "url=[]\n",
    "page=1\n",
    "for i in k:\n",
    "    for x in i:\n",
    "        url.append(x)\n",
    "len(url)  "
   ]
  },
  {
   "cell_type": "code",
   "execution_count": 13,
   "metadata": {},
   "outputs": [
    {
     "name": "stdout",
     "output_type": "stream",
     "text": [
      "Downloading 1 of58 from page\n",
      "Downloading 2 of58 from page\n",
      "Downloading 3 of58 from page\n",
      "Downloading 4 of58 from page\n",
      "Downloading 5 of58 from page\n",
      "Downloading 6 of58 from page\n",
      "Downloading 7 of58 from page\n",
      "Downloading 8 of58 from page\n",
      "Downloading 9 of58 from page\n",
      "Downloading 10 of58 from page\n",
      "Downloading 11 of58 from page\n",
      "Downloading 12 of58 from page\n",
      "Downloading 13 of58 from page\n",
      "Downloading 14 of58 from page\n",
      "Downloading 15 of58 from page\n",
      "Downloading 16 of58 from page\n",
      "Downloading 17 of58 from page\n",
      "Downloading 18 of58 from page\n",
      "Downloading 19 of58 from page\n",
      "Downloading 20 of58 from page\n",
      "Downloading 21 of58 from page\n",
      "Downloading 22 of58 from page\n",
      "Downloading 23 of58 from page\n",
      "Downloading 24 of58 from page\n",
      "Downloading 25 of58 from page\n",
      "Downloading 26 of58 from page\n",
      "Downloading 27 of58 from page\n",
      "Downloading 28 of58 from page\n",
      "Downloading 29 of58 from page\n",
      "Downloading 30 of58 from page\n",
      "Downloading 31 of58 from page\n",
      "Downloading 32 of58 from page\n",
      "Downloading 33 of58 from page\n",
      "Downloading 34 of58 from page\n",
      "Downloading 35 of58 from page\n",
      "Downloading 36 of58 from page\n",
      "Downloading 37 of58 from page\n",
      "Downloading 38 of58 from page\n",
      "Downloading 39 of58 from page\n",
      "Downloading 40 of58 from page\n",
      "Downloading 1 of40 from page\n",
      "Downloading 2 of40 from page\n",
      "Downloading 3 of40 from page\n",
      "Downloading 4 of40 from page\n",
      "Downloading 5 of40 from page\n",
      "Downloading 6 of40 from page\n",
      "Downloading 7 of40 from page\n",
      "Downloading 8 of40 from page\n",
      "Downloading 9 of40 from page\n",
      "Downloading 10 of40 from page\n",
      "Downloading 11 of40 from page\n",
      "Downloading 12 of40 from page\n",
      "Downloading 13 of40 from page\n",
      "Downloading 14 of40 from page\n",
      "Downloading 15 of40 from page\n",
      "Downloading 16 of40 from page\n",
      "Downloading 17 of40 from page\n",
      "Downloading 18 of40 from page\n",
      "Downloading 19 of40 from page\n",
      "Downloading 20 of40 from page\n",
      "Downloading 21 of40 from page\n",
      "Downloading 22 of40 from page\n",
      "Downloading 23 of40 from page\n",
      "Downloading 24 of40 from page\n",
      "Downloading 25 of40 from page\n",
      "Downloading 26 of40 from page\n",
      "Downloading 27 of40 from page\n",
      "Downloading 28 of40 from page\n",
      "Downloading 29 of40 from page\n",
      "Downloading 30 of40 from page\n",
      "Downloading 31 of40 from page\n",
      "Downloading 32 of40 from page\n",
      "Downloading 33 of40 from page\n",
      "Downloading 34 of40 from page\n",
      "Downloading 35 of40 from page\n",
      "Downloading 36 of40 from page\n",
      "Downloading 37 of40 from page\n",
      "Downloading 38 of40 from page\n",
      "Downloading 39 of40 from page\n",
      "Downloading 40 of40 from page\n",
      "Downloading 1 of40 from page\n",
      "Downloading 2 of40 from page\n",
      "Downloading 3 of40 from page\n",
      "Downloading 4 of40 from page\n",
      "Downloading 5 of40 from page\n",
      "Downloading 6 of40 from page\n",
      "Downloading 7 of40 from page\n",
      "Downloading 8 of40 from page\n",
      "Downloading 9 of40 from page\n",
      "Downloading 10 of40 from page\n",
      "Downloading 11 of40 from page\n",
      "Downloading 12 of40 from page\n",
      "Downloading 13 of40 from page\n",
      "Downloading 14 of40 from page\n",
      "Downloading 15 of40 from page\n",
      "Downloading 16 of40 from page\n",
      "Downloading 17 of40 from page\n",
      "Downloading 18 of40 from page\n",
      "Downloading 19 of40 from page\n",
      "Downloading 20 of40 from page\n",
      "Downloading 21 of40 from page\n",
      "Downloading 22 of40 from page\n",
      "Downloading 23 of40 from page\n",
      "Downloading 24 of40 from page\n",
      "Downloading 25 of40 from page\n",
      "Downloading 26 of40 from page\n",
      "Downloading 27 of40 from page\n",
      "Downloading 28 of40 from page\n",
      "Downloading 29 of40 from page\n",
      "Downloading 30 of40 from page\n",
      "Downloading 31 of40 from page\n",
      "Downloading 32 of40 from page\n",
      "Downloading 33 of40 from page\n",
      "Downloading 34 of40 from page\n",
      "Downloading 35 of40 from page\n",
      "Downloading 36 of40 from page\n",
      "Downloading 37 of40 from page\n",
      "Downloading 38 of40 from page\n",
      "Downloading 39 of40 from page\n",
      "Downloading 40 of40 from page\n",
      "Downloading 1 of40 from page\n",
      "Downloading 2 of40 from page\n",
      "Downloading 3 of40 from page\n",
      "Downloading 4 of40 from page\n",
      "Downloading 5 of40 from page\n",
      "Downloading 6 of40 from page\n",
      "Downloading 7 of40 from page\n",
      "Downloading 8 of40 from page\n",
      "Downloading 9 of40 from page\n",
      "Downloading 10 of40 from page\n",
      "Downloading 11 of40 from page\n",
      "Downloading 12 of40 from page\n",
      "Downloading 13 of40 from page\n",
      "Downloading 14 of40 from page\n",
      "Downloading 15 of40 from page\n",
      "Downloading 16 of40 from page\n",
      "Downloading 17 of40 from page\n",
      "Downloading 18 of40 from page\n",
      "Downloading 19 of40 from page\n",
      "Downloading 20 of40 from page\n",
      "Downloading 21 of40 from page\n",
      "Downloading 22 of40 from page\n",
      "Downloading 23 of40 from page\n",
      "Downloading 24 of40 from page\n",
      "Downloading 25 of40 from page\n",
      "Downloading 26 of40 from page\n",
      "Downloading 27 of40 from page\n",
      "Downloading 28 of40 from page\n",
      "Downloading 29 of40 from page\n",
      "Downloading 30 of40 from page\n",
      "Downloading 31 of40 from page\n",
      "Downloading 32 of40 from page\n",
      "Downloading 33 of40 from page\n",
      "Downloading 34 of40 from page\n",
      "Downloading 35 of40 from page\n",
      "Downloading 36 of40 from page\n",
      "Downloading 37 of40 from page\n",
      "Downloading 38 of40 from page\n",
      "Downloading 39 of40 from page\n",
      "Downloading 40 of40 from page\n",
      "Downloading 1 of52 from page\n",
      "Downloading 2 of52 from page\n",
      "Downloading 3 of52 from page\n",
      "Downloading 4 of52 from page\n",
      "Downloading 5 of52 from page\n",
      "Downloading 6 of52 from page\n",
      "Downloading 7 of52 from page\n",
      "Downloading 8 of52 from page\n",
      "Downloading 9 of52 from page\n",
      "Downloading 10 of52 from page\n",
      "Downloading 11 of52 from page\n",
      "Downloading 12 of52 from page\n",
      "Downloading 13 of52 from page\n",
      "Downloading 14 of52 from page\n",
      "Downloading 15 of52 from page\n",
      "Downloading 16 of52 from page\n",
      "Downloading 17 of52 from page\n",
      "Downloading 18 of52 from page\n",
      "Downloading 19 of52 from page\n",
      "Downloading 20 of52 from page\n",
      "Downloading 21 of52 from page\n",
      "Downloading 22 of52 from page\n",
      "Downloading 23 of52 from page\n",
      "Downloading 24 of52 from page\n",
      "Downloading 25 of52 from page\n",
      "Downloading 26 of52 from page\n",
      "Downloading 27 of52 from page\n",
      "Downloading 28 of52 from page\n",
      "Downloading 29 of52 from page\n",
      "Downloading 30 of52 from page\n",
      "Downloading 31 of52 from page\n",
      "Downloading 32 of52 from page\n",
      "Downloading 33 of52 from page\n",
      "Downloading 34 of52 from page\n",
      "Downloading 35 of52 from page\n",
      "Downloading 36 of52 from page\n",
      "Downloading 37 of52 from page\n",
      "Downloading 38 of52 from page\n",
      "Downloading 39 of52 from page\n",
      "Downloading 40 of52 from page\n"
     ]
    }
   ],
   "source": [
    "for index, link in enumerate(i):\n",
    "    print(\"Downloading {0} of{1} from page\".format(index+1, len(urls)))\n",
    "    response=requests.get(link)\n",
    "    with open('sarees/img{0}.jpeg'.format(index,page),\"wb\")as file:\n",
    "        file.write(response.content)\n",
    "for index, link in enumerate(i):\n",
    "    print(\"Downloading {0} of{1} from page\".format(index+1, len(urls0)))\n",
    "    response=requests.get(link)\n",
    "    with open('sarees/imllg{0}.jpeg'.format(index,page),\"wb\")as file:\n",
    "        file.write(response.content)\n",
    "for index, link in enumerate(i):\n",
    "    print(\"Downloading {0} of{1} from page\".format(index+1, len(urls1)))\n",
    "    response=requests.get(link)\n",
    "    with open('sarees/pmg{0}.jpeg'.format(index,page),\"wb\")as file:\n",
    "        file.write(response.content)\n",
    "for index, link in enumerate(i):\n",
    "    print(\"Downloading {0} of{1} from page\".format(index+1, len(urls2)))\n",
    "    response=requests.get(link)\n",
    "    with open('sarees/pmkkg{0}.jpeg'.format(index,page),\"wb\")as file:\n",
    "        file.write(response.content)\n",
    "for index, link in enumerate(i):\n",
    "    print(\"Downloading {0} of{1} from page\".format(index+1, len(urls3)))\n",
    "    response=requests.get(link)\n",
    "    with open('sarees/pnnmg{0}.jpeg'.format(index,page),\"wb\")as file:\n",
    "        file.write(response.content)"
   ]
  }
 ],
 "metadata": {
  "kernelspec": {
   "display_name": "Python 3",
   "language": "python",
   "name": "python3"
  },
  "language_info": {
   "codemirror_mode": {
    "name": "ipython",
    "version": 3
   },
   "file_extension": ".py",
   "mimetype": "text/x-python",
   "name": "python",
   "nbconvert_exporter": "python",
   "pygments_lexer": "ipython3",
   "version": "3.7.3"
  }
 },
 "nbformat": 4,
 "nbformat_minor": 2
}
